{
 "cells": [
  {
   "cell_type": "markdown",
   "id": "507ee8f5",
   "metadata": {},
   "source": [
    "# Body mass index Body Mass Index (BMI) Calculator\n"
   ]
  },
  {
   "cell_type": "code",
   "execution_count": null,
   "id": "032e29a1",
   "metadata": {},
   "outputs": [],
   "source": [
    "name = input(\"Hello, what is your name?   \")\n",
    "print(\"\")\n",
    "greeting = print(\"Nice to meet you,\", name, \"and you can call me harry \")\n",
    "print(\"\")\n",
    "print(\"Today, we are checking your body mass index\")\n",
    "print(\"\")\n",
    "#Variable height and weight\n",
    "height_in_cm = input(\"Enter your height in cm: \")\n",
    "print(\"\")\n",
    "weight = input(\"Enter your weight in kg: \")\n",
    "\n",
    "#Conversion of unit\n",
    "height_in_meter = float(height_in_cm) * 0.01\n",
    "\n",
    "#Calculator\n",
    "bmi = float(weight) / (float(height_in_meter)**2)\n",
    "#Two decimal place\n",
    "bmi_v2 = round(bmi, 2)\n",
    "\n",
    "print(\"\")\n",
    "print(\"Your body mass index is\", bmi_v2)\n",
    "\n",
    "print(\"\")\n",
    "#Result & comment\n",
    "if bmi_v2 <= 18:\n",
    "    print(\"You body is underweight\")\n",
    "elif bmi_v2 <= 24.99:\n",
    "    print(\"Your body is healthy\")\n",
    "elif bmi_v2 <= 29.99:\n",
    "    print(\"Your body is over weight\")\n",
    "elif bmi_v2 <= 40:\n",
    "    print(\"Your body is obese\")\n",
    "elif bmi_v2 <= 42:\n",
    "    print(\"You body is extremely obese\")\n",
    "else:\n",
    "    print(\"Your body BMI is\", bmi_v2, \" and it is above 42, which is extremely serious\")\n",
    "\n",
    "print(\"\")\n",
    "print(\"link for BMI char\")\n",
    "print(\"https://medical.azureedge.net/images/0aa8713b-421f-445f-996a-0aed1695b5a2.jpg\")\n",
    "\n",
    "print(\"\")\n",
    "print(\"link for NHS calulator\")\n",
    "print(\"https://www.nhs.uk/live-well/healthy-weight/bmi-calculator/\")"
   ]
  }
 ],
 "metadata": {
  "kernelspec": {
   "display_name": "Python 3 (ipykernel)",
   "language": "python",
   "name": "python3"
  },
  "language_info": {
   "codemirror_mode": {
    "name": "ipython",
    "version": 3
   },
   "file_extension": ".py",
   "mimetype": "text/x-python",
   "name": "python",
   "nbconvert_exporter": "python",
   "pygments_lexer": "ipython3",
   "version": "3.9.12"
  }
 },
 "nbformat": 4,
 "nbformat_minor": 5
}
